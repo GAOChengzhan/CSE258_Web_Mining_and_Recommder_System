{
 "cells": [
  {
   "cell_type": "code",
   "execution_count": 2,
   "id": "eb6e748a",
   "metadata": {},
   "outputs": [],
   "source": [
    "import sklearn as sk\n",
    "import pandas as pd\n",
    "import numpy as np\n",
    "import json\n",
    "import matplotlib\n",
    "import matplotlib.pyplot as plt"
   ]
  },
  {
   "cell_type": "markdown",
   "id": "b022563a",
   "metadata": {},
   "source": [
    "# Load Data"
   ]
  },
  {
   "cell_type": "code",
   "execution_count": 2,
   "id": "51c1684a",
   "metadata": {},
   "outputs": [],
   "source": [
    "data=pd.read_json('young_adult_10000.json', lines=True)"
   ]
  },
  {
   "cell_type": "code",
   "execution_count": 3,
   "id": "e8b5ddc0",
   "metadata": {
    "scrolled": false
   },
   "outputs": [
    {
     "name": "stdout",
     "output_type": "stream",
     "text": [
      "   rating                                        review_text\n",
      "0       5  I cracked and finally picked this up. Very enj...\n",
      "1       5  I read this book because my fifth grade son wa...\n",
      "2       4  Though the book started out slow and only star...\n",
      "3       2  *Update - 10/27/13* - After some sleep, I thin...\n",
      "4       5  This is a moving, heartbreaking, view into a l...\n",
      "5       5  I never thought I would enjoy a zombie books w...\n",
      "6       5  What a great ending to the trilogy!! The secon...\n",
      "7       5                                         LOVED IT!!\n",
      "8       5                    Exciting, fun, entertaining! :)\n",
      "9       5  LET'S JUST SAY I AM SO THANKFUL I HAVE THE NEX...\n"
     ]
    }
   ],
   "source": [
    "data_task1=data[['rating','review_text']]\n",
    "print(data_task1[:10])"
   ]
  },
  {
   "cell_type": "markdown",
   "id": "92137390",
   "metadata": {},
   "source": [
    "# Task1"
   ]
  },
  {
   "cell_type": "code",
   "execution_count": 4,
   "id": "dc887ac6",
   "metadata": {
    "scrolled": true
   },
   "outputs": [
    {
     "name": "stdout",
     "output_type": "stream",
     "text": [
      "   rating  Count_of_Exclamation\n",
      "0       5                     0\n",
      "1       5                     1\n",
      "2       4                     0\n",
      "3       2                     0\n",
      "4       5                     0\n",
      "5       5                     0\n",
      "6       5                     4\n",
      "7       5                     2\n",
      "8       5                     1\n",
      "9       5                     0\n"
     ]
    },
    {
     "name": "stderr",
     "output_type": "stream",
     "text": [
      "C:\\Users\\solit\\AppData\\Local\\Temp\\ipykernel_11404\\1394676782.py:1: SettingWithCopyWarning: \n",
      "A value is trying to be set on a copy of a slice from a DataFrame.\n",
      "Try using .loc[row_indexer,col_indexer] = value instead\n",
      "\n",
      "See the caveats in the documentation: https://pandas.pydata.org/pandas-docs/stable/user_guide/indexing.html#returning-a-view-versus-a-copy\n",
      "  data_task1['Count_of_Exclamation']=data_task1['review_text'].str.count('!')\n"
     ]
    }
   ],
   "source": [
    "data_task1['Count_of_Exclamation']=data_task1['review_text'].str.count('!')\n",
    "data_task1_new=data_task1[['rating','Count_of_Exclamation']]\n",
    "print(data_task1_new[:10])"
   ]
  },
  {
   "cell_type": "code",
   "execution_count": 5,
   "id": "af8974b1",
   "metadata": {},
   "outputs": [],
   "source": [
    "from sklearn import linear_model\n",
    "def trainModel(model,X_train,y_train):\n",
    "    model.fit(X_train,y_train)\n",
    "    W=model.coef_\n",
    "    b=model.intercept_\n",
    "    return W,b"
   ]
  },
  {
   "cell_type": "code",
   "execution_count": 6,
   "id": "56c3e774",
   "metadata": {},
   "outputs": [
    {
     "name": "stdout",
     "output_type": "stream",
     "text": [
      "[0.07109019] 3.688533040832031\n"
     ]
    }
   ],
   "source": [
    "LR_model1=linear_model.LinearRegression(fit_intercept=True)\n",
    "X1=np.array(data_task1_new['Count_of_Exclamation']).reshape(-1,1)\n",
    "y1=np.array(data_task1_new['rating'])\n",
    "W1,b1=trainModel(LR_model1,X1,y1)\n",
    "print(W1,b1)"
   ]
  },
  {
   "cell_type": "code",
   "execution_count": 7,
   "id": "cd5ebd2e",
   "metadata": {},
   "outputs": [],
   "source": [
    "x_predict1=np.arange(0,65,5)\n",
    "y_predict1=x_predict1*W1+np.ones(len(x_predict1))*b1"
   ]
  },
  {
   "cell_type": "code",
   "execution_count": 8,
   "id": "7b25310a",
   "metadata": {
    "scrolled": true
   },
   "outputs": [
    {
     "data": {
      "text/plain": [
       "Text(0.5, 1.0, 'Rating vs. Count_of_Exclamation')"
      ]
     },
     "execution_count": 8,
     "metadata": {},
     "output_type": "execute_result"
    },
    {
     "data": {
      "image/png": "[encoded data removed]",
      "text/plain": [
       "<Figure size 432x288 with 1 Axes>"
      ]
     },
     "metadata": {
      "needs_background": "light"
     },
     "output_type": "display_data"
    }
   ],
   "source": [
    "plt.scatter(X1,y1,c='b')\n",
    "plt.plot(x_predict1,y_predict1,label=\"y = \"+str(W1[0])[:5]+\"X + \"+str(b1)[:5],c='green')\n",
    "plt.xlim(-1,65)\n",
    "plt.ylim(-0.75,9)\n",
    "plt.legend(loc=\"lower right\")\n",
    "plt.xlabel(\"Count_of_Exclamation\")\n",
    "plt.ylabel(\"Rating\")\n",
    "plt.title(\"Rating vs. Count_of_Exclamation\")"
   ]
  },
  {
   "cell_type": "markdown",
   "id": "ecfb3375",
   "metadata": {},
   "source": [
    "$Calculation$ $of$ $MSE$"
   ]
  },
  {
   "cell_type": "code",
   "execution_count": 9,
   "id": "45d4712f",
   "metadata": {},
   "outputs": [
    {
     "name": "stdout",
     "output_type": "stream",
     "text": [
      "The Task1's MSE is 1.52317\n"
     ]
    }
   ],
   "source": [
    "def MSE_calculation(LR_model,X,y,num):\n",
    "    y_pred=LR_model.predict(X)\n",
    "    SE=[i**2 for i in (y-y_pred)]\n",
    "    SSE=sum(SE)\n",
    "    MSE=SSE/len(y)\n",
    "    print(\"The Task{}'s MSE is {:.5f}\".format(num,MSE))\n",
    "MSE_calculation(LR_model1,X1,y1,1)"
   ]
  },
  {
   "cell_type": "markdown",
   "id": "487ced79",
   "metadata": {},
   "source": [
    "# Task2"
   ]
  },
  {
   "cell_type": "code",
   "execution_count": 10,
   "id": "4a257684",
   "metadata": {
    "scrolled": true
   },
   "outputs": [
    {
     "name": "stdout",
     "output_type": "stream",
     "text": [
      "   rating  Len_of_Review  Count_of_Exclamation\n",
      "0       5           1326                     0\n",
      "1       5            224                     1\n",
      "2       4            118                     0\n",
      "3       2           1952                     0\n",
      "4       5            554                     0\n",
      "5       5            486                     0\n",
      "6       5            257                     4\n",
      "7       5             10                     2\n",
      "8       5             31                     1\n",
      "9       5             62                     0\n"
     ]
    },
    {
     "name": "stderr",
     "output_type": "stream",
     "text": [
      "C:\\Users\\solit\\AppData\\Local\\Temp\\ipykernel_11404\\868553029.py:2: SettingWithCopyWarning: \n",
      "A value is trying to be set on a copy of a slice from a DataFrame.\n",
      "Try using .loc[row_indexer,col_indexer] = value instead\n",
      "\n",
      "See the caveats in the documentation: https://pandas.pydata.org/pandas-docs/stable/user_guide/indexing.html#returning-a-view-versus-a-copy\n",
      "  data_task2['Count_of_Exclamation']=data_task2['review_text'].str.count('!')\n",
      "C:\\Users\\solit\\AppData\\Local\\Temp\\ipykernel_11404\\868553029.py:3: SettingWithCopyWarning: \n",
      "A value is trying to be set on a copy of a slice from a DataFrame.\n",
      "Try using .loc[row_indexer,col_indexer] = value instead\n",
      "\n",
      "See the caveats in the documentation: https://pandas.pydata.org/pandas-docs/stable/user_guide/indexing.html#returning-a-view-versus-a-copy\n",
      "  data_task2['Len_of_Review']=data_task2['review_text'].str.len()\n"
     ]
    }
   ],
   "source": [
    "data_task2=data[['rating','review_text']]\n",
    "data_task2['Count_of_Exclamation']=data_task2['review_text'].str.count('!')\n",
    "data_task2['Len_of_Review']=data_task2['review_text'].str.len()\n",
    "\n",
    "data_task2_new=data_task2[['rating','Len_of_Review','Count_of_Exclamation']]\n",
    "print(data_task2_new[:10])"
   ]
  },
  {
   "cell_type": "code",
   "execution_count": 11,
   "id": "0118cebb",
   "metadata": {
    "scrolled": true
   },
   "outputs": [
    {
     "name": "stdout",
     "output_type": "stream",
     "text": [
      "[-4.12150653e-05  7.52759173e-02] 3.7175128077972013\n"
     ]
    },
    {
     "data": {
      "text/plain": [
       "<matplotlib.collections.PathCollection at 0x18677ac3520>"
      ]
     },
     "execution_count": 11,
     "metadata": {},
     "output_type": "execute_result"
    },
    {
     "data": {
      "image/png": "[encoded data removed]",
      "text/plain": [
       "<Figure size 432x288 with 1 Axes>"
      ]
     },
     "metadata": {
      "needs_background": "light"
     },
     "output_type": "display_data"
    }
   ],
   "source": [
    "X2=np.array(data_task2_new[['Len_of_Review','Count_of_Exclamation']])\n",
    "y2=np.array(data_task2_new['rating'])\n",
    "LR_model2=linear_model.LinearRegression(fit_intercept=True)\n",
    "W2,b2=trainModel(LR_model2,X2,y2)\n",
    "print(W2,b2)\n",
    "plt.scatter(X2[:,0],y2,c='b')"
   ]
  },
  {
   "cell_type": "markdown",
   "id": "0daee7e8",
   "metadata": {},
   "source": [
    "$Calculation$ $of$ $MSE$"
   ]
  },
  {
   "cell_type": "code",
   "execution_count": 12,
   "id": "fabaf2ce",
   "metadata": {},
   "outputs": [
    {
     "name": "stdout",
     "output_type": "stream",
     "text": [
      "The Task2's MSE is 1.52140\n"
     ]
    }
   ],
   "source": [
    "MSE_calculation(LR_model2,X2,y2,2)"
   ]
  },
  {
   "cell_type": "markdown",
   "id": "52439202",
   "metadata": {},
   "source": [
    "# Task 3"
   ]
  },
  {
   "cell_type": "code",
   "execution_count": 13,
   "id": "6014bd08",
   "metadata": {},
   "outputs": [],
   "source": [
    "data_task3=data_task1_new[:]\n",
    "from sklearn.preprocessing import PolynomialFeatures\n",
    "from sklearn.pipeline import make_pipeline"
   ]
  },
  {
   "cell_type": "code",
   "execution_count": 14,
   "id": "0ad8d7d5",
   "metadata": {},
   "outputs": [],
   "source": [
    "def train_PolyModel(degree,X_train,y_train):\n",
    "    PolyRegression=make_pipeline(PolynomialFeatures(degree=degree,include_bias=True),\\\n",
    "                                 linear_model.LinearRegression(fit_intercept=True))\n",
    "    PolyRegression.fit(X_train,y_train)\n",
    "    return PolyRegression"
   ]
  },
  {
   "cell_type": "code",
   "execution_count": 15,
   "id": "2607ad35",
   "metadata": {
    "scrolled": true
   },
   "outputs": [],
   "source": [
    "def poly_plot(polyModel,X,y,X_predict):\n",
    "    plt.figure()\n",
    "    plt.scatter(X,y)\n",
    "    y_predict=polyModel.predict(X_predict)\n",
    "    plt.plot(X_predict,y_predict,c=\"g\")\n",
    "    plt.title(\"Task3\")\n",
    "    plt.show()\n",
    "def MSE_calculation(LR_model,X,y):\n",
    "    y_pred=LR_model.predict(X)\n",
    "    SE=[i**2 for i in (y-y_pred)]\n",
    "    SSE=sum(SE)\n",
    "    MSE=SSE/len(y)\n",
    "    return MSE"
   ]
  },
  {
   "cell_type": "code",
   "execution_count": 16,
   "id": "efdbb714",
   "metadata": {},
   "outputs": [
    {
     "data": {
      "image/png": "[encoded data removed]",
      "text/plain": [
       "<Figure size 432x288 with 1 Axes>"
      ]
     },
     "metadata": {
      "needs_background": "light"
     },
     "output_type": "display_data"
    },
    {
     "data": {
      "image/png": "[encoded data removed]",
      "text/plain": [
       "<Figure size 432x288 with 1 Axes>"
      ]
     },
     "metadata": {
      "needs_background": "light"
     },
     "output_type": "display_data"
    },
    {
     "data": {
      "image/png": "[encoded data removed]",
      "text/plain": [
       "<Figure size 432x288 with 1 Axes>"
      ]
     },
     "metadata": {
      "needs_background": "light"
     },
     "output_type": "display_data"
    },
    {
     "data": {
      "image/png": "[encoded data removed]",
      "text/plain": [
       "<Figure size 432x288 with 1 Axes>"
      ]
     },
     "metadata": {
      "needs_background": "light"
     },
     "output_type": "display_data"
    },
    {
     "data": {
      "image/png": "[encoded data removed]",
      "text/plain": [
       "<Figure size 432x288 with 1 Axes>"
      ]
     },
     "metadata": {
      "needs_background": "light"
     },
     "output_type": "display_data"
    },
    {
     "name": "stdout",
     "output_type": "stream",
     "text": [
      "[1.5231747404538272, 1.5046686106251046, 1.4966845515179144, 1.4904477302230843, 1.4896106953961357]\n"
     ]
    }
   ],
   "source": [
    "X3=np.array(data_task3['Count_of_Exclamation']).reshape(-1,1)\n",
    "y3=np.array(data_task3['rating'])\n",
    "x_predict3=np.arange(0,60,0.1)\n",
    "MSE_lst=[]\n",
    "for i in range(1,6):\n",
    "    PolyRegression=train_PolyModel(i,X3,y3)\n",
    "    poly_plot(PolyRegression,X3,y3,x_predict3.reshape(-1,1))\n",
    "    MSE_lst.append(MSE_calculation(PolyRegression,X3,y3))\n",
    "print(MSE_lst)"
   ]
  },
  {
   "cell_type": "markdown",
   "id": "f512982e",
   "metadata": {},
   "source": [
    "# Task4"
   ]
  },
  {
   "cell_type": "code",
   "execution_count": 17,
   "id": "741bbf8b",
   "metadata": {},
   "outputs": [],
   "source": [
    "half=len(data_task3)//2\n",
    "X4_train=np.array(data_task3[:half]['Count_of_Exclamation']).reshape(-1,1)\n",
    "y4_train=np.array(data_task3[:half]['rating'])"
   ]
  },
  {
   "cell_type": "code",
   "execution_count": 18,
   "id": "d732edf4",
   "metadata": {},
   "outputs": [
    {
     "name": "stdout",
     "output_type": "stream",
     "text": [
      "MSE with different on test set:\n",
      "[1.5248743859866747, 1.4977199259322138, 1.485663219031148, 1.476733744007583, 1.4809577271803667]\n"
     ]
    }
   ],
   "source": [
    "X4_test=np.array(data_task3[half:]['Count_of_Exclamation']).reshape(-1,1)\n",
    "y4_test=np.array(data_task3[half:]['rating'])\n",
    "MSE_lst_task4=[]\n",
    "for i in range(1,6):\n",
    "    PolyRegression=train_PolyModel(i,X4_train,y4_train)\n",
    "    MSE_lst_task4.append(MSE_calculation(PolyRegression,X4_test,y4_test))\n",
    "print(\"MSE with different on test set:\")\n",
    "print(MSE_lst_task4)"
   ]
  },
  {
   "cell_type": "markdown",
   "id": "abad5e7c",
   "metadata": {},
   "source": [
    "# Task5"
   ]
  },
  {
   "cell_type": "code",
   "execution_count": 19,
   "id": "a067ac7b",
   "metadata": {},
   "outputs": [
    {
     "name": "stdout",
     "output_type": "stream",
     "text": [
      "MAE on the test set of Task4:\n",
      "0.907\n"
     ]
    }
   ],
   "source": [
    "# using median as predictor is one best way to predict the value with MAE loss\n",
    "from statistics import median\n",
    "y5_train_median=median(y4_train)\n",
    "print(\"MAE on the test set of Task4:\")\n",
    "MAE=sum([abs(i-y5_train_median) for i in y4_test])/len(y4_test)\n",
    "print(MAE)"
   ]
  },
  {
   "cell_type": "markdown",
   "id": "25247589",
   "metadata": {},
   "source": [
    "# Task6"
   ]
  },
  {
   "cell_type": "markdown",
   "id": "b5960dab",
   "metadata": {},
   "source": [
    "load data"
   ]
  },
  {
   "cell_type": "code",
   "execution_count": 3,
   "id": "6b7b8c08",
   "metadata": {},
   "outputs": [
    {
     "name": "stdout",
     "output_type": "stream",
     "text": [
      "{'review/appearance': 2.5, 'beer/style': 'Hefeweizen', 'review/palate': 1.5, 'review/taste': 1.5, 'beer/name': 'Sausa Weizen', 'review/timeUnix': 1234817823, 'beer/ABV': 5.0, 'beer/beerId': '47986', 'beer/brewerId': '10325', 'review/timeStruct': {'isdst': 0, 'mday': 16, 'hour': 20, 'min': 57, 'sec': 3, 'mon': 2, 'year': 2009, 'yday': 47, 'wday': 0}, 'review/overall': 1.5, 'review/text': 'A lot of foam. But a lot.\\tIn the smell some banana, and then lactic and tart. Not a good start.\\tQuite dark orange in color, with a lively carbonation (now visible, under the foam).\\tAgain tending to lactic sourness.\\tSame for the taste. With some yeast and banana.', 'user/profileName': 'stcules', 'review/aroma': 2.0}\n"
     ]
    }
   ],
   "source": [
    "def parseData(fname):\n",
    "    for l in open(fname):\n",
    "        yield eval(l)\n",
    "data2 = list(parseData(\"beer_50000.json\"))\n",
    "print(data2[0])"
   ]
  },
  {
   "cell_type": "code",
   "execution_count": 4,
   "id": "df49c4b8",
   "metadata": {},
   "outputs": [
    {
     "name": "stdout",
     "output_type": "stream",
     "text": [
      "20403\n",
      "{'review/appearance': 4.0, 'beer/style': 'American Double / Imperial Stout', 'review/palate': 4.0, 'review/taste': 4.5, 'beer/name': \"Stoudt's Fat Dog (Imperial Oatmeal Stout)\", 'review/timeUnix': 1204432271, 'user/gender': 'Female', 'beer/ABV': 9.0, 'beer/beerId': '20539', 'beer/brewerId': '394', 'review/timeStruct': {'isdst': 0, 'mday': 2, 'hour': 4, 'min': 31, 'sec': 11, 'mon': 3, 'year': 2008, 'yday': 62, 'wday': 6}, 'review/overall': 4.5, 'review/text': '12 oz bottle\\t\\tblack with very little head.. not alot of lacing, but not bad for 9%\\t\\tSmelled of roasted malts and sweet fruit, but not very strong smell for an imperial stout\\t\\ttaste was a very well balanced, well blended roasted flavor with dark, sweet fruits mixed in, plum, fig, raisen. \\t\\tVery creamy and easy to drink. This one went down surprisingly well for such a high abv... wish i had more than one.', 'user/profileName': 'tayner', 'review/aroma': 3.5}\n"
     ]
    }
   ],
   "source": [
    "#discarding entries that don’t include a specified gender\n",
    "data2_gender=[d for d in data2 if 'user/gender' in d]\n",
    "print(len(data2_gender))\n",
    "print(data2_gender[-11])"
   ]
  },
  {
   "cell_type": "code",
   "execution_count": 5,
   "id": "2df38d78",
   "metadata": {},
   "outputs": [],
   "source": [
    "data_task6=np.array([[ 0 if d['user/gender'] =='Male' else 1, d['review/text'].count('!')] for d in data2_gender])\n",
    "X_task6=data_task6[:,1].reshape(-1,1)\n",
    "y_task6=data_task6[:,0]\n"
   ]
  },
  {
   "cell_type": "code",
   "execution_count": 6,
   "id": "b4bd2456",
   "metadata": {},
   "outputs": [
    {
     "data": {
      "text/plain": [
       "<matplotlib.collections.PathCollection at 0x23e3739cf70>"
      ]
     },
     "execution_count": 6,
     "metadata": {},
     "output_type": "execute_result"
    },
    {
     "data": {
      "image/png": "[encoded data removed]",
      "text/plain": [
       "<Figure size 432x288 with 1 Axes>"
      ]
     },
     "metadata": {
      "needs_background": "light"
     },
     "output_type": "display_data"
    }
   ],
   "source": [
    "plt.scatter(X_task6,y_task6)"
   ]
  },
  {
   "cell_type": "code",
   "execution_count": 7,
   "id": "4070a590",
   "metadata": {},
   "outputs": [],
   "source": [
    "from sklearn.linear_model import LogisticRegression\n",
    "LgR_model_task6=LogisticRegression()\n",
    "LgR_model_task6.fit(X_task6,y_task6)\n",
    "y_predict_task6=LgR_model_task6.predict(X_task6)"
   ]
  },
  {
   "cell_type": "code",
   "execution_count": 12,
   "id": "a9a31263",
   "metadata": {
    "scrolled": false
   },
   "outputs": [
    {
     "name": "stdout",
     "output_type": "stream",
     "text": [
      "[0, 20095, 0, 308, 0.5]\n",
      "0.9849041807577317\n"
     ]
    }
   ],
   "source": [
    "def accuracy_calculation(y,y_predict):\n",
    "    TruePt,TrueNg,FalsePt,FalseNg=0,0,0,0\n",
    "    for i in range(len(y_predict)):\n",
    "        if y_predict[i]==0:\n",
    "            if y[i]==0:\n",
    "                TrueNg+=1\n",
    "            else:\n",
    "                FalseNg+=1\n",
    "        else:\n",
    "            if y[i]==1:\n",
    "                TruePt+=1\n",
    "            else:\n",
    "                FalsePt+=1\n",
    "    BER=0.5*((FalsePt/(FalsePt+TrueNg))+(FalseNg/(FalseNg+TruePt)))\n",
    "    return [TruePt,TrueNg,FalsePt,FalseNg,BER]\n",
    "res= accuracy_calculation(y_task6,y_predict_task6)\n",
    "print(res)\n",
    "sample_weight=np.ones(len(X_task6))\n",
    "print(LgR_model_task6.score(X_task6,y_task6,sample_weight))"
   ]
  },
  {
   "cell_type": "markdown",
   "id": "0d7b412e",
   "metadata": {},
   "source": [
    "# Task7 "
   ]
  },
  {
   "cell_type": "code",
   "execution_count": 13,
   "id": "70001636",
   "metadata": {},
   "outputs": [
    {
     "name": "stdout",
     "output_type": "stream",
     "text": [
      "[88, 16332, 3763, 220, 0.4507731134255145]\n",
      "0.8047836102533941\n"
     ]
    }
   ],
   "source": [
    "LgR_model_task7=LogisticRegression(class_weight='balanced')\n",
    "LgR_model_task7.fit(X_task6.reshape(-1,1),y_task6)\n",
    "y_predict_task7=LgR_model_task7.predict(X_task6)\n",
    "res_task7 = accuracy_calculation(y_task6,y_predict_task7)\n",
    "print(res_task7)\n",
    "#sample_weight=np.ones(len(X_task6))\n",
    "print(LgR_model_task7.score(X_task6,y_task6,sample_weight))"
   ]
  },
  {
   "cell_type": "code",
   "execution_count": 28,
   "id": "81940b5e",
   "metadata": {
    "scrolled": false
   },
   "outputs": [
    {
     "name": "stdout",
     "output_type": "stream",
     "text": [
      "0.8155663382835857\n"
     ]
    }
   ],
   "source": [
    "print(\"{}\".format((16552+ 88)/(sum(res_task7))))"
   ]
  },
  {
   "cell_type": "markdown",
   "id": "a35bdfc3",
   "metadata": {},
   "source": [
    "# Task 8"
   ]
  },
  {
   "cell_type": "code",
   "execution_count": 35,
   "id": "84c9445c",
   "metadata": {},
   "outputs": [],
   "source": [
    "y_predict_task8 = LgR_model_task7.predict_proba(X_task6)\n",
    "y_predict_task8new=[]\n",
    "for i,j in enumerate(y_predict_task8):\n",
    "    y_predict_task8new.append([j[1],i])"
   ]
  },
  {
   "cell_type": "code",
   "execution_count": 36,
   "id": "ceb89942",
   "metadata": {},
   "outputs": [
    {
     "data": {
      "text/plain": [
       "array([0, 0, 0, ..., 0, 1, 0])"
      ]
     },
     "execution_count": 36,
     "metadata": {},
     "output_type": "execute_result"
    }
   ],
   "source": [
    "y_predict=LgR_model_task7.predict(X_task6)\n",
    "y_predict"
   ]
  },
  {
   "cell_type": "code",
   "execution_count": 37,
   "id": "e317edb3",
   "metadata": {},
   "outputs": [
    {
     "data": {
      "text/plain": [
       "array([[0.51833511, 0.48166489],\n",
       "       [0.51833511, 0.48166489],\n",
       "       [0.51833511, 0.48166489],\n",
       "       ...,\n",
       "       [0.51833511, 0.48166489],\n",
       "       [0.42555024, 0.57444976],\n",
       "       [0.51833511, 0.48166489]])"
      ]
     },
     "execution_count": 37,
     "metadata": {},
     "output_type": "execute_result"
    }
   ],
   "source": [
    "y_predict_task8"
   ]
  },
  {
   "cell_type": "code",
   "execution_count": 38,
   "id": "dbba8e33",
   "metadata": {},
   "outputs": [],
   "source": [
    "y_predict_task8new.sort(reverse=True)"
   ]
  },
  {
   "cell_type": "code",
   "execution_count": 39,
   "id": "fc60c401",
   "metadata": {},
   "outputs": [
    {
     "data": {
      "text/plain": [
       "[[0.9826055977849775, 8619],\n",
       " [0.9386097615245664, 10416],\n",
       " [0.9386097615245664, 9768],\n",
       " [0.9269291406025542, 16284],\n",
       " [0.9269291406025542, 8093],\n",
       " [0.913231518490005, 13408],\n",
       " [0.8972508135988608, 17341],\n",
       " [0.8972508135988608, 16579],\n",
       " [0.8972508135988608, 11236],\n",
       " [0.8787177228987151, 14686],\n",
       " [0.8787177228987151, 13756],\n",
       " [0.8787177228987151, 9083],\n",
       " [0.8573731583574731, 17167],\n",
       " [0.8573731583574731, 12812],\n",
       " [0.8573731583574731, 10020],\n",
       " [0.8573731583574731, 8470],\n",
       " [0.8573731583574731, 7919],\n",
       " [0.8329861176882454, 15181],\n",
       " [0.8329861176882454, 9055],\n",
       " [0.8329861176882454, 5934],\n",
       " [0.8329861176882454, 1042],\n",
       " [0.8329861176882454, 372],\n",
       " [0.8053758112350426, 19184],\n",
       " [0.8053758112350426, 17728],\n",
       " [0.8053758112350426, 14011],\n",
       " [0.8053758112350426, 13152],\n",
       " [0.8053758112350426, 9363],\n",
       " [0.8053758112350426, 8833],\n",
       " [0.8053758112350426, 8399],\n",
       " [0.8053758112350426, 8343],\n",
       " [0.8053758112350426, 7230],\n",
       " [0.8053758112350426, 6468],\n",
       " [0.8053758112350426, 6226],\n",
       " [0.8053758112350426, 6083],\n",
       " [0.8053758112350426, 3954],\n",
       " [0.8053758112350426, 1883],\n",
       " [0.8053758112350426, 781],\n",
       " [0.8053758112350426, 207],\n",
       " [0.7744370438270431, 20131],\n",
       " [0.7744370438270431, 20119],\n",
       " [0.7744370438270431, 18546],\n",
       " [0.7744370438270431, 17911],\n",
       " [0.7744370438270431, 17067],\n",
       " [0.7744370438270431, 16620],\n",
       " [0.7744370438270431, 16516],\n",
       " [0.7744370438270431, 15283],\n",
       " [0.7744370438270431, 13776],\n",
       " [0.7744370438270431, 13234],\n",
       " [0.7744370438270431, 12395],\n",
       " [0.7744370438270431, 11960],\n",
       " [0.7744370438270431, 10641],\n",
       " [0.7744370438270431, 9275],\n",
       " [0.7744370438270431, 8715],\n",
       " [0.7744370438270431, 7998],\n",
       " [0.7744370438270431, 5175],\n",
       " [0.7744370438270431, 3827],\n",
       " [0.7744370438270431, 2437],\n",
       " [0.7744370438270431, 1134],\n",
       " [0.7744370438270431, 987],\n",
       " [0.7744370438270431, 221],\n",
       " [0.7744370438270431, 84],\n",
       " [0.7401667805389119, 19924],\n",
       " [0.7401667805389119, 19096],\n",
       " [0.7401667805389119, 18742],\n",
       " [0.7401667805389119, 13932],\n",
       " [0.7401667805389119, 13650],\n",
       " [0.7401667805389119, 13638],\n",
       " [0.7401667805389119, 13522],\n",
       " [0.7401667805389119, 12084],\n",
       " [0.7401667805389119, 11695],\n",
       " [0.7401667805389119, 10941],\n",
       " [0.7401667805389119, 10072],\n",
       " [0.7401667805389119, 8967],\n",
       " [0.7401667805389119, 8829],\n",
       " [0.7401667805389119, 8785],\n",
       " [0.7401667805389119, 8673],\n",
       " [0.7401667805389119, 6942],\n",
       " [0.7401667805389119, 6927],\n",
       " [0.7401667805389119, 6561],\n",
       " [0.7401667805389119, 6197],\n",
       " [0.7401667805389119, 6108],\n",
       " [0.7401667805389119, 5896],\n",
       " [0.7401667805389119, 5432],\n",
       " [0.7401667805389119, 5126],\n",
       " [0.7401667805389119, 3497],\n",
       " [0.7401667805389119, 2805],\n",
       " [0.7401667805389119, 2788],\n",
       " [0.7401667805389119, 2492],\n",
       " [0.7401667805389119, 2481],\n",
       " [0.7026886690584135, 19973],\n",
       " [0.7026886690584135, 18912],\n",
       " [0.7026886690584135, 18332],\n",
       " [0.7026886690584135, 18156],\n",
       " [0.7026886690584135, 17945],\n",
       " [0.7026886690584135, 17445],\n",
       " [0.7026886690584135, 17074],\n",
       " [0.7026886690584135, 16350],\n",
       " [0.7026886690584135, 16232],\n",
       " [0.7026886690584135, 15936],\n",
       " [0.7026886690584135, 15302],\n",
       " [0.7026886690584135, 14747],\n",
       " [0.7026886690584135, 14296],\n",
       " [0.7026886690584135, 14270],\n",
       " [0.7026886690584135, 14132],\n",
       " [0.7026886690584135, 13736],\n",
       " [0.7026886690584135, 13659],\n",
       " [0.7026886690584135, 13602],\n",
       " [0.7026886690584135, 13588],\n",
       " [0.7026886690584135, 13532],\n",
       " [0.7026886690584135, 13432],\n",
       " [0.7026886690584135, 13414],\n",
       " [0.7026886690584135, 13288],\n",
       " [0.7026886690584135, 13278],\n",
       " [0.7026886690584135, 13230],\n",
       " [0.7026886690584135, 13226],\n",
       " [0.7026886690584135, 13079],\n",
       " [0.7026886690584135, 13020],\n",
       " [0.7026886690584135, 12785],\n",
       " [0.7026886690584135, 12738],\n",
       " [0.7026886690584135, 12644],\n",
       " [0.7026886690584135, 12483],\n",
       " [0.7026886690584135, 12271],\n",
       " [0.7026886690584135, 11556],\n",
       " [0.7026886690584135, 11499],\n",
       " [0.7026886690584135, 11372],\n",
       " [0.7026886690584135, 11318],\n",
       " [0.7026886690584135, 10903],\n",
       " [0.7026886690584135, 10712],\n",
       " [0.7026886690584135, 10423],\n",
       " [0.7026886690584135, 10372],\n",
       " [0.7026886690584135, 10305],\n",
       " [0.7026886690584135, 9136],\n",
       " [0.7026886690584135, 8871],\n",
       " [0.7026886690584135, 8774],\n",
       " [0.7026886690584135, 8711],\n",
       " [0.7026886690584135, 8573],\n",
       " [0.7026886690584135, 8543],\n",
       " [0.7026886690584135, 8438],\n",
       " [0.7026886690584135, 8335],\n",
       " [0.7026886690584135, 8002],\n",
       " [0.7026886690584135, 7911],\n",
       " [0.7026886690584135, 7849],\n",
       " [0.7026886690584135, 7647],\n",
       " [0.7026886690584135, 7525],\n",
       " [0.7026886690584135, 7486],\n",
       " [0.7026886690584135, 7476],\n",
       " [0.7026886690584135, 7009],\n",
       " [0.7026886690584135, 6985],\n",
       " [0.7026886690584135, 6655],\n",
       " [0.7026886690584135, 6457],\n",
       " [0.7026886690584135, 6292],\n",
       " [0.7026886690584135, 6225],\n",
       " [0.7026886690584135, 6112],\n",
       " [0.7026886690584135, 5549],\n",
       " [0.7026886690584135, 4777],\n",
       " [0.7026886690584135, 3816],\n",
       " [0.7026886690584135, 3695],\n",
       " [0.7026886690584135, 3650],\n",
       " [0.7026886690584135, 2826],\n",
       " [0.7026886690584135, 2053],\n",
       " [0.7026886690584135, 1617],\n",
       " [0.7026886690584135, 1583],\n",
       " [0.7026886690584135, 1238],\n",
       " [0.7026886690584135, 317],\n",
       " [0.7026886690584135, 164],\n",
       " [0.6622713500165643, 20358],\n",
       " [0.6622713500165643, 20294],\n",
       " [0.6622713500165643, 20196],\n",
       " [0.6622713500165643, 20185],\n",
       " [0.6622713500165643, 20094],\n",
       " [0.6622713500165643, 19931],\n",
       " [0.6622713500165643, 19853],\n",
       " [0.6622713500165643, 19522],\n",
       " [0.6622713500165643, 19282],\n",
       " [0.6622713500165643, 19207],\n",
       " [0.6622713500165643, 19177],\n",
       " [0.6622713500165643, 19172],\n",
       " [0.6622713500165643, 18798],\n",
       " [0.6622713500165643, 18480],\n",
       " [0.6622713500165643, 18197],\n",
       " [0.6622713500165643, 17615],\n",
       " [0.6622713500165643, 17593],\n",
       " [0.6622713500165643, 17547],\n",
       " [0.6622713500165643, 17489],\n",
       " [0.6622713500165643, 17424],\n",
       " [0.6622713500165643, 17368],\n",
       " [0.6622713500165643, 17367],\n",
       " [0.6622713500165643, 17355],\n",
       " [0.6622713500165643, 17197],\n",
       " [0.6622713500165643, 17063],\n",
       " [0.6622713500165643, 16734],\n",
       " [0.6622713500165643, 16660],\n",
       " [0.6622713500165643, 16316],\n",
       " [0.6622713500165643, 16204],\n",
       " [0.6622713500165643, 16024],\n",
       " [0.6622713500165643, 16002],\n",
       " [0.6622713500165643, 15981],\n",
       " [0.6622713500165643, 15705],\n",
       " [0.6622713500165643, 15634],\n",
       " [0.6622713500165643, 15261],\n",
       " [0.6622713500165643, 14992],\n",
       " [0.6622713500165643, 14792],\n",
       " [0.6622713500165643, 14724],\n",
       " [0.6622713500165643, 14445],\n",
       " [0.6622713500165643, 14091],\n",
       " [0.6622713500165643, 14015],\n",
       " [0.6622713500165643, 13902],\n",
       " [0.6622713500165643, 13813],\n",
       " [0.6622713500165643, 13758],\n",
       " [0.6622713500165643, 13747],\n",
       " [0.6622713500165643, 13740],\n",
       " [0.6622713500165643, 13737],\n",
       " [0.6622713500165643, 13657],\n",
       " [0.6622713500165643, 13628],\n",
       " [0.6622713500165643, 13542],\n",
       " [0.6622713500165643, 13389],\n",
       " [0.6622713500165643, 13387],\n",
       " [0.6622713500165643, 13333],\n",
       " [0.6622713500165643, 13330],\n",
       " [0.6622713500165643, 13302],\n",
       " [0.6622713500165643, 13267],\n",
       " [0.6622713500165643, 13258],\n",
       " [0.6622713500165643, 13168],\n",
       " [0.6622713500165643, 12927],\n",
       " [0.6622713500165643, 12803],\n",
       " [0.6622713500165643, 12754],\n",
       " [0.6622713500165643, 12463],\n",
       " [0.6622713500165643, 12351],\n",
       " [0.6622713500165643, 12256],\n",
       " [0.6622713500165643, 12200],\n",
       " [0.6622713500165643, 12123],\n",
       " [0.6622713500165643, 12081],\n",
       " [0.6622713500165643, 12037],\n",
       " [0.6622713500165643, 11885],\n",
       " [0.6622713500165643, 11733],\n",
       " [0.6622713500165643, 11718],\n",
       " [0.6622713500165643, 11562],\n",
       " [0.6622713500165643, 11547],\n",
       " [0.6622713500165643, 11373],\n",
       " [0.6622713500165643, 10882],\n",
       " [0.6622713500165643, 10612],\n",
       " [0.6622713500165643, 10499],\n",
       " [0.6622713500165643, 10387],\n",
       " [0.6622713500165643, 10351],\n",
       " [0.6622713500165643, 10348],\n",
       " [0.6622713500165643, 10100],\n",
       " [0.6622713500165643, 9966],\n",
       " [0.6622713500165643, 9815],\n",
       " [0.6622713500165643, 9745],\n",
       " [0.6622713500165643, 9708],\n",
       " [0.6622713500165643, 9250],\n",
       " [0.6622713500165643, 9244],\n",
       " [0.6622713500165643, 9122],\n",
       " [0.6622713500165643, 9062],\n",
       " [0.6622713500165643, 9015],\n",
       " [0.6622713500165643, 8816],\n",
       " [0.6622713500165643, 8799],\n",
       " [0.6622713500165643, 8757],\n",
       " [0.6622713500165643, 8599],\n",
       " [0.6622713500165643, 8569],\n",
       " [0.6622713500165643, 8518],\n",
       " [0.6622713500165643, 8516],\n",
       " [0.6622713500165643, 8377],\n",
       " [0.6622713500165643, 8326],\n",
       " [0.6622713500165643, 8229],\n",
       " [0.6622713500165643, 7910],\n",
       " [0.6622713500165643, 7598],\n",
       " [0.6622713500165643, 7533],\n",
       " [0.6622713500165643, 7478],\n",
       " [0.6622713500165643, 7411],\n",
       " [0.6622713500165643, 7398],\n",
       " [0.6622713500165643, 7342],\n",
       " [0.6622713500165643, 7171],\n",
       " [0.6622713500165643, 7002],\n",
       " [0.6622713500165643, 6540],\n",
       " [0.6622713500165643, 6504],\n",
       " [0.6622713500165643, 6440],\n",
       " [0.6622713500165643, 6358],\n",
       " [0.6622713500165643, 6337],\n",
       " [0.6622713500165643, 6270],\n",
       " [0.6622713500165643, 6245],\n",
       " [0.6622713500165643, 6215],\n",
       " [0.6622713500165643, 5979],\n",
       " [0.6622713500165643, 5875],\n",
       " [0.6622713500165643, 5871],\n",
       " [0.6622713500165643, 5809],\n",
       " [0.6622713500165643, 5795],\n",
       " [0.6622713500165643, 5658],\n",
       " [0.6622713500165643, 5515],\n",
       " [0.6622713500165643, 5075],\n",
       " [0.6622713500165643, 4726],\n",
       " [0.6622713500165643, 4041],\n",
       " [0.6622713500165643, 3828],\n",
       " [0.6622713500165643, 3745],\n",
       " [0.6622713500165643, 3392],\n",
       " [0.6622713500165643, 3343],\n",
       " [0.6622713500165643, 2761],\n",
       " [0.6622713500165643, 2705],\n",
       " [0.6622713500165643, 2465],\n",
       " [0.6622713500165643, 2252],\n",
       " [0.6622713500165643, 2230],\n",
       " [0.6622713500165643, 1983],\n",
       " [0.6622713500165643, 1861],\n",
       " [0.6622713500165643, 1808],\n",
       " [0.6622713500165643, 1718],\n",
       " [0.6622713500165643, 1337],\n",
       " [0.6622713500165643, 1196],\n",
       " [0.6622713500165643, 1044],\n",
       " [0.6622713500165643, 991],\n",
       " [0.6622713500165643, 738],\n",
       " [0.6622713500165643, 296],\n",
       " [0.6622713500165643, 284],\n",
       " [0.6622713500165643, 69],\n",
       " [0.6193360651925047, 20334],\n",
       " [0.6193360651925047, 20323],\n",
       " [0.6193360651925047, 20309],\n",
       " [0.6193360651925047, 20243],\n",
       " [0.6193360651925047, 20240],\n",
       " [0.6193360651925047, 20239],\n",
       " [0.6193360651925047, 20188],\n",
       " [0.6193360651925047, 20186],\n",
       " [0.6193360651925047, 20160],\n",
       " [0.6193360651925047, 20108],\n",
       " [0.6193360651925047, 19988],\n",
       " [0.6193360651925047, 19977],\n",
       " [0.6193360651925047, 19889],\n",
       " [0.6193360651925047, 19579],\n",
       " [0.6193360651925047, 19566],\n",
       " [0.6193360651925047, 19549],\n",
       " [0.6193360651925047, 19384],\n",
       " [0.6193360651925047, 19313],\n",
       " [0.6193360651925047, 19279],\n",
       " [0.6193360651925047, 19250],\n",
       " [0.6193360651925047, 19205],\n",
       " [0.6193360651925047, 19204],\n",
       " [0.6193360651925047, 19142],\n",
       " [0.6193360651925047, 19083],\n",
       " [0.6193360651925047, 19068],\n",
       " [0.6193360651925047, 18846],\n",
       " [0.6193360651925047, 18834],\n",
       " [0.6193360651925047, 18734],\n",
       " [0.6193360651925047, 18639],\n",
       " [0.6193360651925047, 18575],\n",
       " [0.6193360651925047, 18569],\n",
       " [0.6193360651925047, 18282],\n",
       " [0.6193360651925047, 18211],\n",
       " [0.6193360651925047, 17928],\n",
       " [0.6193360651925047, 17726],\n",
       " [0.6193360651925047, 17681],\n",
       " [0.6193360651925047, 17680],\n",
       " [0.6193360651925047, 17631],\n",
       " [0.6193360651925047, 17626],\n",
       " [0.6193360651925047, 17561],\n",
       " [0.6193360651925047, 17519],\n",
       " [0.6193360651925047, 17507],\n",
       " [0.6193360651925047, 17399],\n",
       " [0.6193360651925047, 17366],\n",
       " [0.6193360651925047, 17194],\n",
       " [0.6193360651925047, 17125],\n",
       " [0.6193360651925047, 17113],\n",
       " [0.6193360651925047, 17041],\n",
       " [0.6193360651925047, 16848],\n",
       " [0.6193360651925047, 16756],\n",
       " [0.6193360651925047, 16732],\n",
       " [0.6193360651925047, 16549],\n",
       " [0.6193360651925047, 16543],\n",
       " [0.6193360651925047, 16527],\n",
       " [0.6193360651925047, 16374],\n",
       " [0.6193360651925047, 16336],\n",
       " [0.6193360651925047, 16290],\n",
       " [0.6193360651925047, 16288],\n",
       " [0.6193360651925047, 16175],\n",
       " [0.6193360651925047, 16148],\n",
       " [0.6193360651925047, 16054],\n",
       " [0.6193360651925047, 16045],\n",
       " [0.6193360651925047, 15947],\n",
       " [0.6193360651925047, 15930],\n",
       " [0.6193360651925047, 15863],\n",
       " [0.6193360651925047, 15728],\n",
       " [0.6193360651925047, 15401],\n",
       " [0.6193360651925047, 15230],\n",
       " [0.6193360651925047, 15217],\n",
       " [0.6193360651925047, 15140],\n",
       " [0.6193360651925047, 15110],\n",
       " [0.6193360651925047, 14848],\n",
       " [0.6193360651925047, 14839],\n",
       " [0.6193360651925047, 14786],\n",
       " [0.6193360651925047, 14769],\n",
       " [0.6193360651925047, 14466],\n",
       " [0.6193360651925047, 14421],\n",
       " [0.6193360651925047, 14359],\n",
       " [0.6193360651925047, 14347],\n",
       " [0.6193360651925047, 14261],\n",
       " [0.6193360651925047, 14054],\n",
       " [0.6193360651925047, 14003],\n",
       " [0.6193360651925047, 13999],\n",
       " [0.6193360651925047, 13993],\n",
       " [0.6193360651925047, 13894],\n",
       " [0.6193360651925047, 13869],\n",
       " [0.6193360651925047, 13797],\n",
       " [0.6193360651925047, 13745],\n",
       " [0.6193360651925047, 13730],\n",
       " [0.6193360651925047, 13695],\n",
       " [0.6193360651925047, 13690],\n",
       " [0.6193360651925047, 13649],\n",
       " [0.6193360651925047, 13597],\n",
       " [0.6193360651925047, 13577],\n",
       " [0.6193360651925047, 13550],\n",
       " [0.6193360651925047, 13524],\n",
       " [0.6193360651925047, 13467],\n",
       " [0.6193360651925047, 13435],\n",
       " [0.6193360651925047, 13433],\n",
       " [0.6193360651925047, 13398],\n",
       " [0.6193360651925047, 13375],\n",
       " [0.6193360651925047, 13365],\n",
       " [0.6193360651925047, 13358],\n",
       " [0.6193360651925047, 13356],\n",
       " [0.6193360651925047, 13347],\n",
       " [0.6193360651925047, 13339],\n",
       " [0.6193360651925047, 13338],\n",
       " [0.6193360651925047, 13287],\n",
       " [0.6193360651925047, 13254],\n",
       " [0.6193360651925047, 13225],\n",
       " [0.6193360651925047, 13173],\n",
       " [0.6193360651925047, 13148],\n",
       " [0.6193360651925047, 13066],\n",
       " [0.6193360651925047, 13018],\n",
       " [0.6193360651925047, 12939],\n",
       " [0.6193360651925047, 12808],\n",
       " [0.6193360651925047, 12764],\n",
       " [0.6193360651925047, 12728],\n",
       " [0.6193360651925047, 12688],\n",
       " [0.6193360651925047, 12569],\n",
       " [0.6193360651925047, 12505],\n",
       " [0.6193360651925047, 12422],\n",
       " [0.6193360651925047, 12405],\n",
       " [0.6193360651925047, 12391],\n",
       " [0.6193360651925047, 12377],\n",
       " [0.6193360651925047, 12327],\n",
       " [0.6193360651925047, 12293],\n",
       " [0.6193360651925047, 12129],\n",
       " [0.6193360651925047, 12128],\n",
       " [0.6193360651925047, 12064],\n",
       " [0.6193360651925047, 12018],\n",
       " [0.6193360651925047, 11931],\n",
       " [0.6193360651925047, 11837],\n",
       " [0.6193360651925047, 11752],\n",
       " [0.6193360651925047, 11646],\n",
       " [0.6193360651925047, 11598],\n",
       " [0.6193360651925047, 11579],\n",
       " [0.6193360651925047, 11555],\n",
       " [0.6193360651925047, 11485],\n",
       " [0.6193360651925047, 11469],\n",
       " [0.6193360651925047, 11420],\n",
       " [0.6193360651925047, 11404],\n",
       " [0.6193360651925047, 11367],\n",
       " [0.6193360651925047, 11349],\n",
       " [0.6193360651925047, 11333],\n",
       " [0.6193360651925047, 11325],\n",
       " [0.6193360651925047, 11309],\n",
       " [0.6193360651925047, 11292],\n",
       " [0.6193360651925047, 11231],\n",
       " [0.6193360651925047, 11230],\n",
       " [0.6193360651925047, 10999],\n",
       " [0.6193360651925047, 10997],\n",
       " [0.6193360651925047, 10947],\n",
       " [0.6193360651925047, 10946],\n",
       " [0.6193360651925047, 10915],\n",
       " [0.6193360651925047, 10911],\n",
       " [0.6193360651925047, 10896],\n",
       " [0.6193360651925047, 10883],\n",
       " [0.6193360651925047, 10881],\n",
       " [0.6193360651925047, 10860],\n",
       " [0.6193360651925047, 10858],\n",
       " [0.6193360651925047, 10798],\n",
       " [0.6193360651925047, 10734],\n",
       " [0.6193360651925047, 10726],\n",
       " [0.6193360651925047, 10665],\n",
       " [0.6193360651925047, 10639],\n",
       " [0.6193360651925047, 10570],\n",
       " [0.6193360651925047, 10538],\n",
       " [0.6193360651925047, 10496],\n",
       " [0.6193360651925047, 10432],\n",
       " [0.6193360651925047, 10431],\n",
       " [0.6193360651925047, 10398],\n",
       " [0.6193360651925047, 10359],\n",
       " [0.6193360651925047, 10302],\n",
       " [0.6193360651925047, 10146],\n",
       " [0.6193360651925047, 10059],\n",
       " [0.6193360651925047, 10053],\n",
       " [0.6193360651925047, 9836],\n",
       " [0.6193360651925047, 9793],\n",
       " [0.6193360651925047, 9637],\n",
       " [0.6193360651925047, 9636],\n",
       " [0.6193360651925047, 9592],\n",
       " [0.6193360651925047, 9562],\n",
       " [0.6193360651925047, 9528],\n",
       " [0.6193360651925047, 9454],\n",
       " [0.6193360651925047, 9432],\n",
       " [0.6193360651925047, 9430],\n",
       " [0.6193360651925047, 9350],\n",
       " [0.6193360651925047, 9328],\n",
       " [0.6193360651925047, 9293],\n",
       " [0.6193360651925047, 9279],\n",
       " [0.6193360651925047, 9104],\n",
       " [0.6193360651925047, 9097],\n",
       " [0.6193360651925047, 9073],\n",
       " [0.6193360651925047, 9051],\n",
       " [0.6193360651925047, 9003],\n",
       " [0.6193360651925047, 8939],\n",
       " [0.6193360651925047, 8932],\n",
       " [0.6193360651925047, 8887],\n",
       " [0.6193360651925047, 8867],\n",
       " [0.6193360651925047, 8808],\n",
       " [0.6193360651925047, 8807],\n",
       " [0.6193360651925047, 8796],\n",
       " [0.6193360651925047, 8761],\n",
       " [0.6193360651925047, 8672],\n",
       " [0.6193360651925047, 8656],\n",
       " [0.6193360651925047, 8604],\n",
       " [0.6193360651925047, 8596],\n",
       " [0.6193360651925047, 8594],\n",
       " [0.6193360651925047, 8531],\n",
       " [0.6193360651925047, 8492],\n",
       " [0.6193360651925047, 8482],\n",
       " [0.6193360651925047, 8465],\n",
       " [0.6193360651925047, 8405],\n",
       " [0.6193360651925047, 8388],\n",
       " [0.6193360651925047, 8350],\n",
       " [0.6193360651925047, 8329],\n",
       " [0.6193360651925047, 8301],\n",
       " [0.6193360651925047, 8268],\n",
       " [0.6193360651925047, 8266],\n",
       " [0.6193360651925047, 8261],\n",
       " [0.6193360651925047, 8259],\n",
       " [0.6193360651925047, 8216],\n",
       " [0.6193360651925047, 8131],\n",
       " [0.6193360651925047, 8066],\n",
       " [0.6193360651925047, 8008],\n",
       " [0.6193360651925047, 7794],\n",
       " [0.6193360651925047, 7737],\n",
       " [0.6193360651925047, 7590],\n",
       " [0.6193360651925047, 7581],\n",
       " [0.6193360651925047, 7526],\n",
       " [0.6193360651925047, 7444],\n",
       " [0.6193360651925047, 7438],\n",
       " [0.6193360651925047, 7407],\n",
       " [0.6193360651925047, 7399],\n",
       " [0.6193360651925047, 7367],\n",
       " [0.6193360651925047, 7302],\n",
       " [0.6193360651925047, 7259],\n",
       " [0.6193360651925047, 7229],\n",
       " [0.6193360651925047, 7214],\n",
       " [0.6193360651925047, 7182],\n",
       " [0.6193360651925047, 7176],\n",
       " [0.6193360651925047, 7173],\n",
       " [0.6193360651925047, 7079],\n",
       " [0.6193360651925047, 7028],\n",
       " [0.6193360651925047, 6996],\n",
       " [0.6193360651925047, 6726],\n",
       " [0.6193360651925047, 6656],\n",
       " [0.6193360651925047, 6645],\n",
       " [0.6193360651925047, 6618],\n",
       " [0.6193360651925047, 6477],\n",
       " [0.6193360651925047, 6271],\n",
       " [0.6193360651925047, 6214],\n",
       " [0.6193360651925047, 6210],\n",
       " [0.6193360651925047, 6180],\n",
       " [0.6193360651925047, 6131],\n",
       " [0.6193360651925047, 6126],\n",
       " [0.6193360651925047, 6109],\n",
       " [0.6193360651925047, 6103],\n",
       " [0.6193360651925047, 6099],\n",
       " [0.6193360651925047, 6068],\n",
       " [0.6193360651925047, 6059],\n",
       " [0.6193360651925047, 5993],\n",
       " [0.6193360651925047, 5956],\n",
       " [0.6193360651925047, 5927],\n",
       " [0.6193360651925047, 5889],\n",
       " [0.6193360651925047, 5872],\n",
       " [0.6193360651925047, 5818],\n",
       " [0.6193360651925047, 5754],\n",
       " [0.6193360651925047, 5627],\n",
       " [0.6193360651925047, 5523],\n",
       " [0.6193360651925047, 5243],\n",
       " [0.6193360651925047, 5185],\n",
       " [0.6193360651925047, 5182],\n",
       " [0.6193360651925047, 5127],\n",
       " [0.6193360651925047, 4881],\n",
       " [0.6193360651925047, 4793],\n",
       " [0.6193360651925047, 4764],\n",
       " [0.6193360651925047, 4748],\n",
       " [0.6193360651925047, 4613],\n",
       " [0.6193360651925047, 4492],\n",
       " [0.6193360651925047, 4479],\n",
       " [0.6193360651925047, 4367],\n",
       " [0.6193360651925047, 4070],\n",
       " [0.6193360651925047, 4015],\n",
       " [0.6193360651925047, 3887],\n",
       " [0.6193360651925047, 3806],\n",
       " [0.6193360651925047, 3760],\n",
       " [0.6193360651925047, 3700],\n",
       " [0.6193360651925047, 3553],\n",
       " [0.6193360651925047, 3510],\n",
       " [0.6193360651925047, 3433],\n",
       " [0.6193360651925047, 3410],\n",
       " [0.6193360651925047, 3339],\n",
       " [0.6193360651925047, 3317],\n",
       " [0.6193360651925047, 3162],\n",
       " [0.6193360651925047, 3116],\n",
       " [0.6193360651925047, 2914],\n",
       " [0.6193360651925047, 2890],\n",
       " [0.6193360651925047, 2349],\n",
       " [0.6193360651925047, 2290],\n",
       " [0.6193360651925047, 2281],\n",
       " [0.6193360651925047, 2208],\n",
       " [0.6193360651925047, 2205],\n",
       " [0.6193360651925047, 2147],\n",
       " [0.6193360651925047, 2138],\n",
       " [0.6193360651925047, 2136],\n",
       " [0.6193360651925047, 2097],\n",
       " [0.6193360651925047, 2043],\n",
       " [0.6193360651925047, 2016],\n",
       " [0.6193360651925047, 1968],\n",
       " [0.6193360651925047, 1896],\n",
       " [0.6193360651925047, 1888],\n",
       " [0.6193360651925047, 1876],\n",
       " [0.6193360651925047, 1826],\n",
       " [0.6193360651925047, 1802],\n",
       " [0.6193360651925047, 1801],\n",
       " [0.6193360651925047, 1360],\n",
       " [0.6193360651925047, 1358],\n",
       " [0.6193360651925047, 1330],\n",
       " [0.6193360651925047, 1215],\n",
       " [0.6193360651925047, 1113],\n",
       " [0.6193360651925047, 1041],\n",
       " [0.6193360651925047, 986],\n",
       " [0.6193360651925047, 972],\n",
       " [0.6193360651925047, 726],\n",
       " [0.6193360651925047, 669],\n",
       " [0.6193360651925047, 336],\n",
       " [0.6193360651925047, 279],\n",
       " [0.6193360651925047, 253],\n",
       " [0.6193360651925047, 198],\n",
       " [0.6193360651925047, 70],\n",
       " [0.6193360651925047, 29],\n",
       " [0.5744497599556071, 20401],\n",
       " [0.5744497599556071, 20377],\n",
       " [0.5744497599556071, 20342],\n",
       " [0.5744497599556071, 20308],\n",
       " [0.5744497599556071, 20302],\n",
       " [0.5744497599556071, 20265],\n",
       " [0.5744497599556071, 20262],\n",
       " [0.5744497599556071, 20228],\n",
       " [0.5744497599556071, 20218],\n",
       " [0.5744497599556071, 20191],\n",
       " [0.5744497599556071, 20156],\n",
       " [0.5744497599556071, 20126],\n",
       " [0.5744497599556071, 20113],\n",
       " [0.5744497599556071, 20100],\n",
       " [0.5744497599556071, 20087],\n",
       " [0.5744497599556071, 20066],\n",
       " [0.5744497599556071, 20031],\n",
       " [0.5744497599556071, 20011],\n",
       " [0.5744497599556071, 20010],\n",
       " [0.5744497599556071, 19995],\n",
       " [0.5744497599556071, 19942],\n",
       " [0.5744497599556071, 19915],\n",
       " [0.5744497599556071, 19912],\n",
       " [0.5744497599556071, 19885],\n",
       " [0.5744497599556071, 19797],\n",
       " [0.5744497599556071, 19740],\n",
       " [0.5744497599556071, 19737],\n",
       " [0.5744497599556071, 19607],\n",
       " [0.5744497599556071, 19504],\n",
       " [0.5744497599556071, 19468],\n",
       " [0.5744497599556071, 19450],\n",
       " [0.5744497599556071, 19234],\n",
       " [0.5744497599556071, 19224],\n",
       " [0.5744497599556071, 19186],\n",
       " [0.5744497599556071, 19169],\n",
       " [0.5744497599556071, 19140],\n",
       " [0.5744497599556071, 19133],\n",
       " [0.5744497599556071, 19125],\n",
       " [0.5744497599556071, 19091],\n",
       " [0.5744497599556071, 19089],\n",
       " [0.5744497599556071, 19088],\n",
       " [0.5744497599556071, 19082],\n",
       " [0.5744497599556071, 19077],\n",
       " [0.5744497599556071, 19071],\n",
       " [0.5744497599556071, 19037],\n",
       " [0.5744497599556071, 18935],\n",
       " [0.5744497599556071, 18931],\n",
       " [0.5744497599556071, 18915],\n",
       " [0.5744497599556071, 18908],\n",
       " [0.5744497599556071, 18879],\n",
       " [0.5744497599556071, 18829],\n",
       " [0.5744497599556071, 18815],\n",
       " [0.5744497599556071, 18810],\n",
       " [0.5744497599556071, 18806],\n",
       " [0.5744497599556071, 18791],\n",
       " [0.5744497599556071, 18726],\n",
       " [0.5744497599556071, 18671],\n",
       " [0.5744497599556071, 18646],\n",
       " [0.5744497599556071, 18607],\n",
       " [0.5744497599556071, 18570],\n",
       " [0.5744497599556071, 18568],\n",
       " [0.5744497599556071, 18549],\n",
       " [0.5744497599556071, 18516],\n",
       " [0.5744497599556071, 18497],\n",
       " [0.5744497599556071, 18454],\n",
       " [0.5744497599556071, 18326],\n",
       " [0.5744497599556071, 18269],\n",
       " [0.5744497599556071, 18250],\n",
       " [0.5744497599556071, 18242],\n",
       " [0.5744497599556071, 18232],\n",
       " [0.5744497599556071, 18132],\n",
       " [0.5744497599556071, 18117],\n",
       " [0.5744497599556071, 18103],\n",
       " [0.5744497599556071, 18057],\n",
       " [0.5744497599556071, 18003],\n",
       " [0.5744497599556071, 17934],\n",
       " [0.5744497599556071, 17931],\n",
       " [0.5744497599556071, 17925],\n",
       " [0.5744497599556071, 17917],\n",
       " [0.5744497599556071, 17904],\n",
       " [0.5744497599556071, 17901],\n",
       " [0.5744497599556071, 17883],\n",
       " [0.5744497599556071, 17834],\n",
       " [0.5744497599556071, 17776],\n",
       " [0.5744497599556071, 17766],\n",
       " [0.5744497599556071, 17764],\n",
       " [0.5744497599556071, 17738],\n",
       " [0.5744497599556071, 17733],\n",
       " [0.5744497599556071, 17732],\n",
       " [0.5744497599556071, 17663],\n",
       " [0.5744497599556071, 17660],\n",
       " [0.5744497599556071, 17568],\n",
       " [0.5744497599556071, 17539],\n",
       " [0.5744497599556071, 17524],\n",
       " [0.5744497599556071, 17508],\n",
       " [0.5744497599556071, 17503],\n",
       " [0.5744497599556071, 17502],\n",
       " [0.5744497599556071, 17488],\n",
       " [0.5744497599556071, 17463],\n",
       " [0.5744497599556071, 17459],\n",
       " [0.5744497599556071, 17455],\n",
       " [0.5744497599556071, 17443],\n",
       " [0.5744497599556071, 17439],\n",
       " [0.5744497599556071, 17411],\n",
       " [0.5744497599556071, 17379],\n",
       " [0.5744497599556071, 17353],\n",
       " [0.5744497599556071, 17343],\n",
       " [0.5744497599556071, 17317],\n",
       " [0.5744497599556071, 17282],\n",
       " [0.5744497599556071, 17267],\n",
       " [0.5744497599556071, 17219],\n",
       " [0.5744497599556071, 17204],\n",
       " [0.5744497599556071, 17182],\n",
       " [0.5744497599556071, 17165],\n",
       " [0.5744497599556071, 17145],\n",
       " [0.5744497599556071, 17097],\n",
       " [0.5744497599556071, 17082],\n",
       " [0.5744497599556071, 17076],\n",
       " [0.5744497599556071, 17039],\n",
       " [0.5744497599556071, 17013],\n",
       " [0.5744497599556071, 16919],\n",
       " [0.5744497599556071, 16868],\n",
       " [0.5744497599556071, 16839],\n",
       " [0.5744497599556071, 16827],\n",
       " [0.5744497599556071, 16745],\n",
       " [0.5744497599556071, 16733],\n",
       " [0.5744497599556071, 16724],\n",
       " [0.5744497599556071, 16719],\n",
       " [0.5744497599556071, 16710],\n",
       " [0.5744497599556071, 16618],\n",
       " [0.5744497599556071, 16615],\n",
       " [0.5744497599556071, 16559],\n",
       " [0.5744497599556071, 16548],\n",
       " [0.5744497599556071, 16533],\n",
       " [0.5744497599556071, 16490],\n",
       " [0.5744497599556071, 16479],\n",
       " [0.5744497599556071, 16463],\n",
       " [0.5744497599556071, 16379],\n",
       " [0.5744497599556071, 16337],\n",
       " [0.5744497599556071, 16308],\n",
       " [0.5744497599556071, 16275],\n",
       " [0.5744497599556071, 16260],\n",
       " [0.5744497599556071, 16223],\n",
       " [0.5744497599556071, 16212],\n",
       " [0.5744497599556071, 16193],\n",
       " [0.5744497599556071, 16185],\n",
       " [0.5744497599556071, 16110],\n",
       " [0.5744497599556071, 16097],\n",
       " [0.5744497599556071, 16061],\n",
       " [0.5744497599556071, 16006],\n",
       " [0.5744497599556071, 15986],\n",
       " [0.5744497599556071, 15938],\n",
       " [0.5744497599556071, 15933],\n",
       " [0.5744497599556071, 15912],\n",
       " [0.5744497599556071, 15888],\n",
       " [0.5744497599556071, 15882],\n",
       " [0.5744497599556071, 15766],\n",
       " [0.5744497599556071, 15642],\n",
       " [0.5744497599556071, 15590],\n",
       " [0.5744497599556071, 15549],\n",
       " [0.5744497599556071, 15506],\n",
       " [0.5744497599556071, 15504],\n",
       " [0.5744497599556071, 15413],\n",
       " [0.5744497599556071, 15347],\n",
       " [0.5744497599556071, 15233],\n",
       " [0.5744497599556071, 15222],\n",
       " [0.5744497599556071, 15213],\n",
       " [0.5744497599556071, 15206],\n",
       " [0.5744497599556071, 15172],\n",
       " [0.5744497599556071, 15158],\n",
       " [0.5744497599556071, 15151],\n",
       " [0.5744497599556071, 15144],\n",
       " [0.5744497599556071, 15126],\n",
       " [0.5744497599556071, 15059],\n",
       " [0.5744497599556071, 15033],\n",
       " [0.5744497599556071, 14972],\n",
       " [0.5744497599556071, 14913],\n",
       " [0.5744497599556071, 14885],\n",
       " [0.5744497599556071, 14880],\n",
       " [0.5744497599556071, 14862],\n",
       " [0.5744497599556071, 14818],\n",
       " [0.5744497599556071, 14796],\n",
       " [0.5744497599556071, 14779],\n",
       " [0.5744497599556071, 14775],\n",
       " [0.5744497599556071, 14773],\n",
       " [0.5744497599556071, 14758],\n",
       " [0.5744497599556071, 14748],\n",
       " [0.5744497599556071, 14682],\n",
       " [0.5744497599556071, 14588],\n",
       " [0.5744497599556071, 14544],\n",
       " [0.5744497599556071, 14543],\n",
       " [0.5744497599556071, 14502],\n",
       " [0.5744497599556071, 14478],\n",
       " [0.5744497599556071, 14471],\n",
       " [0.5744497599556071, 14456],\n",
       " [0.5744497599556071, 14428],\n",
       " [0.5744497599556071, 14411],\n",
       " [0.5744497599556071, 14392],\n",
       " [0.5744497599556071, 14342],\n",
       " [0.5744497599556071, 14340],\n",
       " [0.5744497599556071, 14315],\n",
       " [0.5744497599556071, 14308],\n",
       " [0.5744497599556071, 14301],\n",
       " [0.5744497599556071, 14289],\n",
       " [0.5744497599556071, 14220],\n",
       " [0.5744497599556071, 14169],\n",
       " [0.5744497599556071, 14118],\n",
       " [0.5744497599556071, 14111],\n",
       " [0.5744497599556071, 14103],\n",
       " [0.5744497599556071, 14084],\n",
       " [0.5744497599556071, 14069],\n",
       " [0.5744497599556071, 14027],\n",
       " [0.5744497599556071, 14008],\n",
       " [0.5744497599556071, 13992],\n",
       " [0.5744497599556071, 13972],\n",
       " [0.5744497599556071, 13969],\n",
       " [0.5744497599556071, 13966],\n",
       " [0.5744497599556071, 13961],\n",
       " [0.5744497599556071, 13952],\n",
       " [0.5744497599556071, 13943],\n",
       " [0.5744497599556071, 13916],\n",
       " [0.5744497599556071, 13865],\n",
       " [0.5744497599556071, 13855],\n",
       " [0.5744497599556071, 13828],\n",
       " [0.5744497599556071, 13827],\n",
       " [0.5744497599556071, 13805],\n",
       " [0.5744497599556071, 13794],\n",
       " [0.5744497599556071, 13734],\n",
       " [0.5744497599556071, 13726],\n",
       " [0.5744497599556071, 13694],\n",
       " [0.5744497599556071, 13679],\n",
       " [0.5744497599556071, 13664],\n",
       " [0.5744497599556071, 13651],\n",
       " [0.5744497599556071, 13643],\n",
       " [0.5744497599556071, 13641],\n",
       " [0.5744497599556071, 13637],\n",
       " [0.5744497599556071, 13629],\n",
       " [0.5744497599556071, 13621],\n",
       " [0.5744497599556071, 13610],\n",
       " [0.5744497599556071, 13574],\n",
       " [0.5744497599556071, 13559],\n",
       " [0.5744497599556071, 13558],\n",
       " [0.5744497599556071, 13541],\n",
       " [0.5744497599556071, 13538],\n",
       " [0.5744497599556071, 13534],\n",
       " [0.5744497599556071, 13530],\n",
       " [0.5744497599556071, 13521],\n",
       " [0.5744497599556071, 13520],\n",
       " [0.5744497599556071, 13518],\n",
       " [0.5744497599556071, 13511],\n",
       " [0.5744497599556071, 13508],\n",
       " [0.5744497599556071, 13498],\n",
       " [0.5744497599556071, 13451],\n",
       " [0.5744497599556071, 13445],\n",
       " [0.5744497599556071, 13437],\n",
       " [0.5744497599556071, 13429],\n",
       " [0.5744497599556071, 13428],\n",
       " [0.5744497599556071, 13423],\n",
       " [0.5744497599556071, 13401],\n",
       " [0.5744497599556071, 13376],\n",
       " [0.5744497599556071, 13368],\n",
       " [0.5744497599556071, 13367],\n",
       " [0.5744497599556071, 13354],\n",
       " [0.5744497599556071, 13343],\n",
       " [0.5744497599556071, 13331],\n",
       " [0.5744497599556071, 13303],\n",
       " [0.5744497599556071, 13252],\n",
       " [0.5744497599556071, 13238],\n",
       " [0.5744497599556071, 13190],\n",
       " [0.5744497599556071, 13143],\n",
       " [0.5744497599556071, 13139],\n",
       " [0.5744497599556071, 13121],\n",
       " [0.5744497599556071, 13086],\n",
       " [0.5744497599556071, 13064],\n",
       " [0.5744497599556071, 13055],\n",
       " [0.5744497599556071, 13046],\n",
       " [0.5744497599556071, 13035],\n",
       " [0.5744497599556071, 12998],\n",
       " [0.5744497599556071, 12964],\n",
       " [0.5744497599556071, 12943],\n",
       " [0.5744497599556071, 12916],\n",
       " [0.5744497599556071, 12901],\n",
       " [0.5744497599556071, 12866],\n",
       " [0.5744497599556071, 12839],\n",
       " [0.5744497599556071, 12835],\n",
       " [0.5744497599556071, 12829],\n",
       " [0.5744497599556071, 12825],\n",
       " [0.5744497599556071, 12753],\n",
       " [0.5744497599556071, 12746],\n",
       " [0.5744497599556071, 12673],\n",
       " [0.5744497599556071, 12668],\n",
       " [0.5744497599556071, 12666],\n",
       " [0.5744497599556071, 12655],\n",
       " [0.5744497599556071, 12631],\n",
       " [0.5744497599556071, 12629],\n",
       " [0.5744497599556071, 12601],\n",
       " [0.5744497599556071, 12599],\n",
       " [0.5744497599556071, 12582],\n",
       " [0.5744497599556071, 12557],\n",
       " [0.5744497599556071, 12544],\n",
       " [0.5744497599556071, 12529],\n",
       " [0.5744497599556071, 12511],\n",
       " [0.5744497599556071, 12510],\n",
       " [0.5744497599556071, 12421],\n",
       " [0.5744497599556071, 12418],\n",
       " [0.5744497599556071, 12332],\n",
       " [0.5744497599556071, 12272],\n",
       " [0.5744497599556071, 12225],\n",
       " [0.5744497599556071, 12218],\n",
       " [0.5744497599556071, 12192],\n",
       " [0.5744497599556071, 12164],\n",
       " [0.5744497599556071, 12134],\n",
       " [0.5744497599556071, 12116],\n",
       " [0.5744497599556071, 12095],\n",
       " [0.5744497599556071, 12073],\n",
       " [0.5744497599556071, 12053],\n",
       " [0.5744497599556071, 12046],\n",
       " [0.5744497599556071, 12029],\n",
       " [0.5744497599556071, 12017],\n",
       " [0.5744497599556071, 11935],\n",
       " [0.5744497599556071, 11916],\n",
       " [0.5744497599556071, 11898],\n",
       " [0.5744497599556071, 11891],\n",
       " [0.5744497599556071, 11876],\n",
       " [0.5744497599556071, 11865],\n",
       " [0.5744497599556071, 11863],\n",
       " [0.5744497599556071, 11841],\n",
       " [0.5744497599556071, 11834],\n",
       " [0.5744497599556071, 11792],\n",
       " [0.5744497599556071, 11762],\n",
       " [0.5744497599556071, 11694],\n",
       " [0.5744497599556071, 11691],\n",
       " [0.5744497599556071, 11688],\n",
       " [0.5744497599556071, 11672],\n",
       " [0.5744497599556071, 11652],\n",
       " [0.5744497599556071, 11625],\n",
       " [0.5744497599556071, 11610],\n",
       " [0.5744497599556071, 11606],\n",
       " [0.5744497599556071, 11553],\n",
       " [0.5744497599556071, 11481],\n",
       " [0.5744497599556071, 11464],\n",
       " [0.5744497599556071, 11455],\n",
       " [0.5744497599556071, 11439],\n",
       " [0.5744497599556071, 11430],\n",
       " [0.5744497599556071, 11423],\n",
       " [0.5744497599556071, 11396],\n",
       " [0.5744497599556071, 11364],\n",
       " [0.5744497599556071, 11363],\n",
       " [0.5744497599556071, 11354],\n",
       " [0.5744497599556071, 11312],\n",
       " [0.5744497599556071, 11295],\n",
       " [0.5744497599556071, 11290],\n",
       " [0.5744497599556071, 11281],\n",
       " [0.5744497599556071, 11210],\n",
       " ...]"
      ]
     },
     "execution_count": 39,
     "metadata": {},
     "output_type": "execute_result"
    }
   ],
   "source": [
    "y_predict_task8new"
   ]
  },
  {
   "cell_type": "code",
   "execution_count": 40,
   "id": "ed963f5f",
   "metadata": {},
   "outputs": [],
   "source": [
    "def precisionAtK(y,y_predict,k):\n",
    "    TruePt,TrueNg,FalsePt,FalseNg=0,0,0,0\n",
    "    for i in range(k):\n",
    "        if y_predict[i][0]>0.50:\n",
    "            if y[y_predict[i][1]]==1:\n",
    "                TruePt+=1\n",
    "            else:\n",
    "                FalsePt+=1\n",
    "        else:\n",
    "            if y[y_predict[i][1]]==0:\n",
    "                TrueNg+=1\n",
    "            else:\n",
    "                FalseNg+=1\n",
    "            \n",
    "    return (TruePt/(TruePt+FalsePt))"
   ]
  },
  {
   "cell_type": "code",
   "execution_count": 41,
   "id": "88cc47ed",
   "metadata": {
    "scrolled": true
   },
   "outputs": [
    {
     "name": "stdout",
     "output_type": "stream",
     "text": [
      "[0.0, 0.0, 0.03, 0.022, 0.022851207478576992]\n"
     ]
    }
   ],
   "source": [
    "res=[]\n",
    "for k in [1, 10, 100, 1000, 10000]:\n",
    "    res.append(precisionAtK(y_task6,y_predict_task8new,k))\n",
    "print(res)"
   ]
  },
  {
   "cell_type": "code",
   "execution_count": null,
   "id": "db8bf5c5",
   "metadata": {},
   "outputs": [],
   "source": []
  }
 ],
 "metadata": {
  "kernelspec": {
   "display_name": "LSTM_NN",
   "language": "python",
   "name": "lstm_cnn"
  },
  "language_info": {
   "codemirror_mode": {
    "name": "ipython",
    "version": 3
   },
   "file_extension": ".py",
   "mimetype": "text/x-python",
   "name": "python",
   "nbconvert_exporter": "python",
   "pygments_lexer": "ipython3",
   "version": "3.9.12"
  }
 },
 "nbformat": 4,
 "nbformat_minor": 5
}
